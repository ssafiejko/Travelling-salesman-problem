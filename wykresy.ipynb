{
 "cells": [
  {
   "cell_type": "code",
   "execution_count": 104,
   "metadata": {},
   "outputs": [],
   "source": [
    "import random\n",
    "import math\n",
    "import copy\n",
    "import time\n",
    "import pandas as pd\n",
    "import matplotlib.pyplot as plt\n",
    "from matplotlib.ticker import ScalarFormatter\n",
    "random.seed(123)\n",
    "# Funkcja zwracająca koszt dla danego rozwiązania\n",
    "def oblicz_koszt(rozwiazanie, odleglosc):\n",
    "    # Zwracamy sumę odległości między kolejnymi miastami w rozwiązaniu\n",
    "    koszt = 0\n",
    "    for i in range(len(rozwiazanie) - 1):\n",
    "        koszt += odleglosc[rozwiazanie[i]][rozwiazanie[i + 1]]\n",
    "    # Dodajemy koszt drogi powrotnej do pierwszego miasta\n",
    "    koszt += odleglosc[rozwiazanie[-1]][rozwiazanie[0]]\n",
    "    return koszt\n",
    "\n",
    "# Funkcja generująca słownik funkcji określającej\n",
    "# Prawdopodobieństwo przyjęcia kandydata\n",
    "# Słownik ma postać {funkcja: lista_parametrów}\n",
    "def metropolis_probability(delta_e, temperature, prob_parameter=None):\n",
    "    return min(1, math.exp(-delta_e / temperature))\n",
    "\n",
    "def boltzmann_probability(delta_e, temperature, prob_parameter=None):\n",
    "        return math.exp(-delta_e / temperature)\n",
    "\n",
    "def gaussian_probability(delta_e, temperature, prob_parameter=3): # z sigmami chyba można mocno kombinować\n",
    "    return math.exp(-(delta_e ** 2) / (2 * (prob_parameter ** 2) * temperature))\n",
    "\n",
    "def exponential_decrease_probability(delta_e, temperature, prob_parameter=1): #alpha\n",
    "        return math.exp(-prob_parameter * delta_e / temperature)\n",
    "\n",
    "\n",
    "def power_law_probability(delta_e, temperature, prob_parameter): # decay_factor raczej jakiś taki okolo 2\n",
    "        return 1 / ((delta_e + 1) ** prob_parameter * temperature)\n",
    "def prob_functions_dict():\n",
    "\n",
    "\n",
    "\n",
    "    \n",
    "\n",
    "    \n",
    "    # def sigmoid_probability(delta_e, temperature, prob_parameter):\n",
    "    #     return 1 / (1 + math.exp(-prob_parameter * delta_e / temperature)) #sigmoid\n",
    "\n",
    "   \n",
    "\n",
    "    \n",
    "\n",
    "    decay_factors = [0.2, 0.4, 0.6, 0.8, 1, 1.2, 1.4, 1.6, 1.8, 2, 2.2, 2.4, 2.6, 2.8, 3, 3.2, 3.4, 3.6]\n",
    "\n",
    "    sigma_factors = [0.1, 0.2, 0.4, 0.5, 0.6, 0.8, 1, 1.5, 2, 2.5, 3]\n",
    "\n",
    "    alpha_factors = [0.001, 0.01, 0.1, 0.2, 0.3, 0.4, 0.5, 1, 1.5, 2, 3, 4]\n",
    "\n",
    "    # sigmoid_parameters = [0.001, 0.01, 0.1, 0.2, 0.3, 0.4, 0.5, 1, 1.5, 2, 3, 4]\n",
    "\n",
    "    return {metropolis_probability: [None], boltzmann_probability: [None],\n",
    "            exponential_decrease_probability: alpha_factors,\n",
    "            gaussian_probability: sigma_factors, power_law_probability: decay_factors}\n",
    "\n",
    "# Funkcja generująca słownik funkcji określającej\n",
    "# Zmianę temperatury wraz z działaniem algorytmu\n",
    "# Słownik ma postać {funkcja: lista_parametrów}\n",
    "def t_decrease_functions_dict():\n",
    "\n",
    "\n",
    "\n",
    "    # def exponential_cooling(T_init, T, iteration, cool_parameter):  # około 0.05\n",
    "    #     return T_init * math.exp(-cool_parameter * iteration)\n",
    "\n",
    "    linear_parameters = [0.9999, 0.99999, 0.999999, 0.9999999]\n",
    "\n",
    "    #exp_parameters = [0.001, 0.005, 0.01, 0.02, 0.03, 0.04, 0.05, 0.06, 0.07]\n",
    "\n",
    "    return {\n",
    "        #exponential_cooling: exp_parameters,\n",
    "        linear_decrease: linear_parameters\n",
    "            }\n",
    "\n",
    "# Funkcja czytająca format .atsp\n",
    "# Zwraca macierz sąsiedztwa\n",
    "def read_atsp_file(filename):\n",
    "    with open(filename, 'r') as f:\n",
    "        lines = f.readlines()\n",
    "\n",
    "        # Extract the dimension of the problem\n",
    "        for line in lines:\n",
    "            if line.startswith('DIMENSION'):\n",
    "                n = int(line.strip().split()[1])\n",
    "                break\n",
    "\n",
    "        # Extract the matrix\n",
    "        matrix = []\n",
    "        row = []\n",
    "        start_reading = False\n",
    "        for line in lines:\n",
    "            if line.startswith('EDGE_WEIGHT_SECTION'):\n",
    "                start_reading = True\n",
    "                continue\n",
    "            if start_reading:\n",
    "                lista_liczb = list(map(int, line.strip().split()))\n",
    "                for i in lista_liczb:\n",
    "                    row.append(i)\n",
    "                    if len(row) == n:\n",
    "                        matrix.append(row)\n",
    "                        row = []\n",
    "                if len(matrix) == n:\n",
    "                    break\n",
    "        for i in range(len(matrix)):\n",
    "            matrix[i][i]= 1000000\n",
    "\n",
    "    return matrix\n",
    "\n",
    "def simulated_annealing(T_init, T_function, cool_parameter,\n",
    "                        Prob_function, prob_parameter,\n",
    "                        break_point, file_name):\n",
    "    \n",
    "\n",
    "    odleglosc = read_atsp_file(file_name)\n",
    "    miasta = [i for i in range(len(odleglosc))]\n",
    "\n",
    "    liczba_iteracji = 1000000  # liczba iteracji\n",
    "\n",
    "    # Losujemy początkowe rozwiązanie\n",
    "    S = random.sample(range(len(miasta)), len(miasta))\n",
    "\n",
    "    # Pętla główna algorytmu\n",
    "    C1, C2 = 0, 0\n",
    "    T = T_init\n",
    "\n",
    "    global_min = float('inf')\n",
    "    global_min_path = []\n",
    "\n",
    "    list_of_costs=[i for i in range(100)]\n",
    "\n",
    "    for i in range(liczba_iteracji):\n",
    "\n",
    "        # Losujemy dwa miasta i zamieniamy je miejscami\n",
    "        S_p = S.copy()\n",
    "        a = random.randint(0, len(S_p) - 1)\n",
    "        b = random.randint(0, len(S_p) - 1)\n",
    "        S_p[a], S_p[b] = S_p[b], S_p[a]\n",
    "\n",
    "        # Obliczamy koszty dla obu rozwiązań\n",
    "        C1 = oblicz_koszt(S, odleglosc)\n",
    "        C2 = oblicz_koszt(S_p, odleglosc)\n",
    "\n",
    "        # Sprawdzamy czy akceptujemy nowe rozwiązanie\n",
    "        if C2 < C1:\n",
    "            S = S_p\n",
    "        else:\n",
    "            delta_e = abs(C1-C2)\n",
    "            p = Prob_function(delta_e, T, prob_parameter)\n",
    "            if random.random() < p:\n",
    "                S = S_p\n",
    "\n",
    "        if i % 10000 == 0:\n",
    "            print(min(C1, C2))\n",
    "            #tu zmienione, zeby tworzylo liste kosztow\n",
    "            list_of_costs[i//10000]=global_min\n",
    "\n",
    "\n",
    "            print(T)\n",
    "\n",
    "        # Zmniejszamy temperaturę\n",
    "        T = T_function(T_init, T, i, cool_parameter)\n",
    "        if T < break_point:\n",
    "            break\n",
    "        if oblicz_koszt(S, odleglosc) < global_min:\n",
    "            global_min_path = [miasta[i] for i in S]\n",
    "            global_min = oblicz_koszt(S, odleglosc)\n",
    "\n",
    "    # Zwracamy najlepsze znalezione rozwiązanie\n",
    "    najlepsze_rozwiazanie = [miasta[i] for i in S]\n",
    "    end = time.time()\n",
    "\n",
    "    return global_min_path, global_min,  list_of_costs\n",
    "    # Sciezka, koszt, lista kosztów- NOWE\n",
    "\n",
    "def linear_decrease(Top_T, T, iteration, cool_parameter):\n",
    "    return T * cool_parameter\n",
    "\n",
    "def main():\n",
    "\n",
    "    prob_dict = []\n",
    "    temp_dict = t_decrease_functions_dict()\n",
    "\n",
    "    starting_temperatures = [50000]  # Lista temperatur początkowych\n",
    "\n",
    "    file_names = ['data/ftv170.atsp']  # Lista nazw plików\n",
    "\n",
    "    min_temperature = 0.1 # Minimalna temperatura, określa potencjalny czas trwania algorytmu\n",
    "\n",
    "    df = pd.DataFrame(columns=['file_name', 'prob_function', 'prob_parameter', 'temp_function',\n",
    "                               'cool_parameter', 'T_init', 'function_result', 'time', 'path'])\n",
    "\n",
    "    "
   ]
  },
  {
   "cell_type": "code",
   "execution_count": null,
   "metadata": {},
   "outputs": [],
   "source": [
    "#PARAMETR CHLODZENIA\n",
    "dict={}\n",
    "starting_temperatures = [50000] \n",
    "file = 'data/ftv33.atsp'  \n",
    "\n",
    "min_temperature = 0.1 # Minimalna temperatura, określa potencjalny czas trwania algorytmu\n",
    "\n",
    "linear_parameters = [0.999, 0.9999, 0.99999]\n",
    "dict= {k: [] for k in linear_parameters}\n",
    "for parametr in linear_parameters:\n",
    "    for _ in range(10):\n",
    "\n",
    "        path, function_result, time1 = simulated_annealing(T_init=30000, T_function=linear_decrease,\n",
    "                                                            cool_parameter=parametr,\n",
    "                                                            Prob_function=gaussian_probability, prob_parameter=3,\n",
    "                                                            break_point=min_temperature, file_name=file)\n",
    "        dict[parametr].append(function_result)\n",
    "\n",
    "print(dict)"
   ]
  },
  {
   "cell_type": "code",
   "execution_count": 106,
   "metadata": {},
   "outputs": [
    {
     "data": {
      "image/png": "[encoded data removed]",
      "text/plain": [
       "<Figure size 720x576 with 1 Axes>"
      ]
     },
     "metadata": {
      "needs_background": "light"
     },
     "output_type": "display_data"
    }
   ],
   "source": [
    "#wykres do parametrów chłodzenia\n",
    "linear_parameters = [0.999, 0.9999, 0.99999]\n",
    "plt.figure(figsize=(10,8))\n",
    "plt.xlabel(\"Parametr chłodzenia\")\n",
    "plt.ylabel(\"Koszt\")\n",
    "for param in linear_parameters:\n",
    "    \n",
    "    plt.scatter([str(param)]*len(dict[param]), dict[param], label=param)\n"
   ]
  },
  {
   "cell_type": "code",
   "execution_count": null,
   "metadata": {},
   "outputs": [],
   "source": [
    "#TEMPERATURA CHŁODZENIA\n",
    "dict={}\n",
    "starting_temperatures = [50000, 30000, 15000, 5000]  \n",
    "\n",
    "dict= {k: [] for k in starting_temperatures}\n",
    "for temp in starting_temperatures:\n",
    "    for _ in range(10):\n",
    "\n",
    "        path, function_result, time1 = simulated_annealing(T_init=temp, T_function=linear_decrease,\n",
    "                                                            cool_parameter=0.99999,\n",
    "                                                            Prob_function=metropolis_probability, prob_parameter=None,\n",
    "                                                            break_point=min_temperature, file_name=file)\n",
    "        dict[temp].append(function_result)\n",
    "\n",
    "\n",
    "print(dict)\n"
   ]
  },
  {
   "cell_type": "code",
   "execution_count": 108,
   "metadata": {},
   "outputs": [
    {
     "data": {
      "image/png": "[encoded data removed]",
      "text/plain": [
       "<Figure size 720x576 with 1 Axes>"
      ]
     },
     "metadata": {
      "needs_background": "light"
     },
     "output_type": "display_data"
    }
   ],
   "source": [
    "#wykres dla poczatkowych temperatur\n",
    "\n",
    "plt.figure(figsize=(10,8))\n",
    "plt.xlabel(\"Początkowa temperatura\")\n",
    "plt.ylabel(\"Koszt\")\n",
    "for temp in starting_temperatures:\n",
    "    plt.scatter([str(temp)]*len(dict[temp]), dict[temp], label=temp)\n"
   ]
  },
  {
   "cell_type": "code",
   "execution_count": null,
   "metadata": {},
   "outputs": [],
   "source": [
    "dict={}\n",
    "\n",
    "\n",
    "parametry=[None, None,1, 3, 2 ]\n",
    "\n",
    "prob_functions=[metropolis_probability, exponential_decrease_probability, gaussian_probability,power_law_probability]\n",
    "\n",
    "dict= {k: [] for k in prob_functions}\n",
    "i=0\n",
    "for fun in prob_functions:\n",
    "    prob_parameter=parametry[i]\n",
    "    for _ in range(10):\n",
    "\n",
    "        path, function_result, time1 = simulated_annealing(T_init=30000, T_function=linear_decrease,\n",
    "                                                            cool_parameter=0.99999,\n",
    "                                                            Prob_function=fun, prob_parameter=parametry[i],\n",
    "                                                            break_point=min_temperature, file_name=file)\n",
    "        dict[fun].append(function_result)\n",
    "    i+=1\n",
    "\n",
    "\n",
    "#print(dict)"
   ]
  },
  {
   "cell_type": "code",
   "execution_count": 137,
   "metadata": {},
   "outputs": [
    {
     "data": {
      "text/plain": [
       "([<matplotlib.axis.XTick at 0x7ff66b1259c0>,\n",
       "  <matplotlib.axis.XTick at 0x7ff66b1265f0>,\n",
       "  <matplotlib.axis.XTick at 0x7ff66b1248e0>,\n",
       "  <matplotlib.axis.XTick at 0x7ff66b4e2ad0>],\n",
       " [Text(0.0, 0, 'metropolis'),\n",
       "  Text(1.0, 0, 'exponential decrease'),\n",
       "  Text(2.0, 0, 'gaussian'),\n",
       "  Text(3.0, 0, 'power law')])"
      ]
     },
     "execution_count": 137,
     "metadata": {},
     "output_type": "execute_result"
    },
    {
     "data": {
      "image/png": "[encoded data removed]",
      "text/plain": [
       "<Figure size 720x576 with 1 Axes>"
      ]
     },
     "metadata": {
      "needs_background": "light"
     },
     "output_type": "display_data"
    }
   ],
   "source": [
    "plt.figure(figsize=(10,8))\n",
    "plt.xlabel(\"Funkcja prawdopodobieństwa\")\n",
    "plt.ylabel(\"Koszt\")\n",
    "prob_functions=[metropolis_probability, exponential_decrease_probability, gaussian_probability,power_law_probability]\n",
    "dict= {metropolis_probability: [1434, 1533, 1482, 1466, 1517, 1320, 1401, 1459, 1390, 1417],  exponential_decrease_probability: [1387, 1459, 1436, 1496, 1402, 1422, 1437, 1449, 1482, 1396],gaussian_probability: [1362, 1385, 1375, 1392, 1421, 1351, 1417, 1379, 1426, 1399],power_law_probability: [1695, 1547, 1686, 1791, 1592, 1576, 1730, 1859, 1613, 1759]}\n",
    "prob_functions1=['metropolis_probability', 'exponential_decrease_probability', 'gaussian_probability','power_law_probability']\n",
    "\n",
    "for fun in prob_functions:\n",
    "    plt.scatter([str(fun.__name__)]*len(dict[fun]), dict[fun], label=fun)\n",
    "\n",
    "plt.xticks(prob_functions1, labels=('metropolis', 'exponential decrease', 'gaussian', 'power law'))\n",
    "\n"
   ]
  },
  {
   "cell_type": "code",
   "execution_count": null,
   "metadata": {},
   "outputs": [],
   "source": [
    "#wykres zaleznosci kosztu od iteracji\n",
    "dict={}\n",
    "dict= {k: [] for k in range(10)}\n",
    "for i in range(10):\n",
    "    path, function_result, list_of_costs = simulated_annealing(T_init=30000, T_function=linear_decrease,\n",
    "                                                        cool_parameter=0.99999,\n",
    "                                                        Prob_function=metropolis_probability, prob_parameter=None,\n",
    "                                                        break_point=0.1, file_name=file)\n",
    "    dict[i].append(list_of_costs)\n",
    "x=list(range(0,1000000,10000))\n",
    "\n"
   ]
  },
  {
   "cell_type": "code",
   "execution_count": null,
   "metadata": {},
   "outputs": [],
   "source": [
    "mean_cost=[0]*100\n",
    "suma=0\n",
    "for i in range(len(list_of_costs)):\n",
    "    for k in range(10):\n",
    "        suma+= dict[k][0][i]\n",
    "    mean_cost[i]=suma/10\n",
    "    suma=0\n",
    "\n",
    "mean_cost"
   ]
  },
  {
   "cell_type": "code",
   "execution_count": 115,
   "metadata": {},
   "outputs": [
    {
     "data": {
      "image/png": "[encoded data removed]",
      "text/plain": [
       "<Figure size 720x360 with 1 Axes>"
      ]
     },
     "metadata": {
      "needs_background": "light"
     },
     "output_type": "display_data"
    }
   ],
   "source": [
    "\n",
    "plt.figure(figsize=(10,5))\n",
    "plt.scatter(x,mean_cost, s=10)\n",
    "plt.xlabel(\"Liczba iteracji\")\n",
    "plt.ylabel(\"Koszt\")\n",
    "plt.ticklabel_format(style='plain', axis='both')\n",
    "formatter = ScalarFormatter(useMathText=True)\n",
    "formatter.set_scientific(False)\n",
    "plt.gca().get_xaxis().set_major_formatter(formatter)\n",
    "plt.gca().get_yaxis().set_major_formatter(formatter)\n",
    "\n",
    "\n"
   ]
  }
 ],
 "metadata": {
  "kernelspec": {
   "display_name": "algebra3",
   "language": "python",
   "name": "python3"
  },
  "language_info": {
   "codemirror_mode": {
    "name": "ipython",
    "version": 3
   },
   "file_extension": ".py",
   "mimetype": "text/x-python",
   "name": "python",
   "nbconvert_exporter": "python",
   "pygments_lexer": "ipython3",
   "version": "3.10.4"
  },
  "orig_nbformat": 4
 },
 "nbformat": 4,
 "nbformat_minor": 2
}
